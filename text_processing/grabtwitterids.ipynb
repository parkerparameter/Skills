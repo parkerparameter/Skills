{
 "nbformat": 4,
 "nbformat_minor": 0,
 "metadata": {
  "colab": {
   "name": "grabtwitterids.ipynb",
   "provenance": [],
   "toc_visible": true,
   "mount_file_id": "1t3SMeZEYjq-vCPl5rthec_5_nF1OkzFh",
   "authorship_tag": "ABX9TyNtFo/Hh33F3MBWtUyROoHy",
   "include_colab_link": true
  },
  "kernelspec": {
   "name": "python3",
   "display_name": "Python 3"
  }
 },
 "cells": [
  {
   "cell_type": "markdown",
   "metadata": {
    "id": "view-in-github",
    "colab_type": "text"
   },
   "source": [
    "<a href=\"https://colab.research.google.com/github/parkerparameter/MLSkills/blob/main/grabtwitterids.ipynb\" target=\"_parent\"><img src=\"https://colab.research.google.com/assets/colab-badge.svg\" alt=\"Open In Colab\"/></a>"
   ]
  },
  {
   "cell_type": "code",
   "metadata": {
    "id": "Yk--0fdMetGZ"
   },
   "source": [
    "import pandas as pd\n",
    "import requests\n",
    "\n",
    "from bs4 import BeautifulSoup"
   ],
   "execution_count": null,
   "outputs": []
  },
  {
   "cell_type": "code",
   "metadata": {
    "id": "1uw3bsyQgBgw"
   },
   "source": [
    "politicians = pd.read_excel('/content/drive/MyDrive/word2vec_training/117th_twitter_handles.xlsx') "
   ],
   "execution_count": null,
   "outputs": []
  },
  {
   "cell_type": "code",
   "metadata": {
    "colab": {
     "base_uri": "https://localhost:8080/",
     "height": 293
    },
    "id": "aNAbq5HGhBCP",
    "outputId": "b1188892-a7ed-4898-da32-ca276d2f4720"
   },
   "source": [
    "politicians.head()"
   ],
   "execution_count": null,
   "outputs": [
    {
     "output_type": "execute_result",
     "data": {
      "text/html": [
       "<div>\n",
       "<style scoped>\n",
       "    .dataframe tbody tr th:only-of-type {\n",
       "        vertical-align: middle;\n",
       "    }\n",
       "\n",
       "    .dataframe tbody tr th {\n",
       "        vertical-align: top;\n",
       "    }\n",
       "\n",
       "    .dataframe thead th {\n",
       "        text-align: right;\n",
       "    }\n",
       "</style>\n",
       "<table border=\"1\" class=\"dataframe\">\n",
       "  <thead>\n",
       "    <tr style=\"text-align: right;\">\n",
       "      <th></th>\n",
       "      <th>State</th>\n",
       "      <th>Chamber of Congress</th>\n",
       "      <th>Name</th>\n",
       "      <th>Party</th>\n",
       "      <th>Twitter</th>\n",
       "      <th>Instagram</th>\n",
       "      <th>Facebook Page</th>\n",
       "    </tr>\n",
       "  </thead>\n",
       "  <tbody>\n",
       "    <tr>\n",
       "      <th>0</th>\n",
       "      <td>Alabama</td>\n",
       "      <td>Senator</td>\n",
       "      <td>Richard Shelby</td>\n",
       "      <td>R</td>\n",
       "      <td>@SenShelby</td>\n",
       "      <td>@senatorshelby</td>\n",
       "      <td>x</td>\n",
       "    </tr>\n",
       "    <tr>\n",
       "      <th>1</th>\n",
       "      <td>Alabama</td>\n",
       "      <td>Senator</td>\n",
       "      <td>Doug Jones</td>\n",
       "      <td>D</td>\n",
       "      <td>@DougJones</td>\n",
       "      <td>@dougjonesbama</td>\n",
       "      <td>x</td>\n",
       "    </tr>\n",
       "    <tr>\n",
       "      <th>2</th>\n",
       "      <td>Alabama 1st District</td>\n",
       "      <td>Representative</td>\n",
       "      <td>Byrne, Bradley</td>\n",
       "      <td>R</td>\n",
       "      <td>@RepByrne</td>\n",
       "      <td>@repbyrne</td>\n",
       "      <td>x</td>\n",
       "    </tr>\n",
       "    <tr>\n",
       "      <th>3</th>\n",
       "      <td>Alabama 2nd District</td>\n",
       "      <td>U.S. Representative</td>\n",
       "      <td>Roby, Martha</td>\n",
       "      <td>R</td>\n",
       "      <td>@RepMarthaRoby</td>\n",
       "      <td>@martharoby</td>\n",
       "      <td>x</td>\n",
       "    </tr>\n",
       "    <tr>\n",
       "      <th>4</th>\n",
       "      <td>Alabama 3rd District</td>\n",
       "      <td>U.S. Representative</td>\n",
       "      <td>Rogers, Mike</td>\n",
       "      <td>R</td>\n",
       "      <td>@RepMikeRogersAL</td>\n",
       "      <td>@repmikerogersal</td>\n",
       "      <td>x</td>\n",
       "    </tr>\n",
       "  </tbody>\n",
       "</table>\n",
       "</div>"
      ],
      "text/plain": [
       "                  State  Chamber of Congress  ...         Instagram Facebook Page\n",
       "0               Alabama              Senator  ...    @senatorshelby             x\n",
       "1               Alabama              Senator  ...    @dougjonesbama             x\n",
       "2  Alabama 1st District       Representative  ...         @repbyrne             x\n",
       "3  Alabama 2nd District  U.S. Representative  ...       @martharoby             x\n",
       "4  Alabama 3rd District  U.S. Representative  ...  @repmikerogersal             x\n",
       "\n",
       "[5 rows x 7 columns]"
      ]
     },
     "metadata": {
      "tags": []
     },
     "execution_count": 3
    }
   ]
  },
  {
   "cell_type": "code",
   "metadata": {
    "id": "kdB7Bq3GhC98"
   },
   "source": [
    "politicians['user4_twitter_endpoint'] = politicians['Twitter'].apply(\n",
    "    lambda x: str(x)[1:]\n",
    ")"
   ],
   "execution_count": null,
   "outputs": []
  },
  {
   "cell_type": "code",
   "metadata": {
    "id": "p13IbSvDHyLu"
   },
   "source": [
    "politicians.columns = politicians.columns.str.replace(' ','_')"
   ],
   "execution_count": null,
   "outputs": []
  },
  {
   "cell_type": "code",
   "metadata": {
    "colab": {
     "base_uri": "https://localhost:8080/"
    },
    "id": "wFphKy3QpNf6",
    "outputId": "0d17eaae-5502-4529-d931-67d040d71b27"
   },
   "source": [
    "politicians['user4_twitter_endpoint'].values"
   ],
   "execution_count": null,
   "outputs": [
    {
     "output_type": "execute_result",
     "data": {
      "text/plain": [
       "array(['SenShelby', 'DougJones', 'RepByrne', 'RepMarthaRoby',\n",
       "       'RepMikeRogersAL', 'Robert_Aderholt', 'RepMoBrooks',\n",
       "       'USRepGaryPalmer', 'RepTerriSewell', 'SenDanSullivan',\n",
       "       'lisamurkowski', 'RepDonYoung', 'RepAmata', 'SenMcSallyAZ',\n",
       "       'SenatorSinema', 'TomOHalleran', 'RepKirkPatrick',\n",
       "       'RepRaulGrijalva', 'RepGosar', 'AndyBiggs4AZ', 'RepDavid',\n",
       "       'RepRubenGallego', 'RepDLesko', 'RepGregStanton', 'SenTomCotton',\n",
       "       'JohnBoozman', 'RepRickCrawford', 'RepFrenchHill',\n",
       "       'rep_stevewomack', 'RepWesterman', 'SenFeinstein', 'KamalaHarris',\n",
       "       'RepLaMalfa', 'RepHuffman', 'RepGaramendi', 'RepMcClintock',\n",
       "       'RepThompson', 'DorisMatsui', 'RepBera', 'RepPaulCook',\n",
       "       'RepMcNerney', 'RepJoshHarder', 'RepDeSaulnier', 'SpeakerPelosi',\n",
       "       'RepBarbaraLee', 'RepSpeier', 'RepSwalwell', 'RepJimCosta',\n",
       "       'RoKhannaUSA', 'RepAnnaEshoo', 'RepZoeLofgren', 'JimmyPanetta',\n",
       "       'RepTJCox', 'DevinNunes', 'GOPLeader', 'CarbajalSalud',\n",
       "       'MikeGarcia2020', 'RepBrownley', 'RepJudyChu', 'RepAdamSchiff',\n",
       "       'RepCardenas', 'BradSherman', 'RepPeteAguilar', 'gracenapolitano',\n",
       "       'RepTedLieu', 'RepJimmyGomez', 'NormaJTorres', 'RepRaulRuizMD',\n",
       "       'RepKarenBass', 'RepLindaSanchez', 'RepGilCisneros',\n",
       "       'RepRoybalAllard', 'RepMarkTakano', 'KenCalvert', 'MaxineWaters',\n",
       "       'Nanette4CA', 'RepKatiePorter', 'RepLouCorrea', 'RepLowenthal',\n",
       "       'RepHarley', 'RepMikeLevin', 'an', 'RepJuanVargas',\n",
       "       'RepScottPeters', 'RepSusanDavis', 'MichaelBennet',\n",
       "       'SenCoryGardner', 'RepDianaDeGette', 'RepJoeNeguse', 'RepTipton',\n",
       "       'RepKenBuck', 'RepDLamborn', 'RepJasonCrow', 'RepPerlmutter',\n",
       "       'ChrisMurphyCT', 'SenBlumenthal', 'RepJohnLarson',\n",
       "       'RepJoeCourtney', 'rosadelauro', 'jahimes', 'RepJahanaHayes',\n",
       "       'SenCoonsOffice', 'SenatorCarper', 'LisaBRochester',\n",
       "       'EleanorNorton', 'marcorubio', 'ScottforFlorida', 'MattGaetz',\n",
       "       'DrNealDunnFL2', 'RepTedYoho', 'JRutherfordFL', 'AlLawsonJr',\n",
       "       'RepMichaelWaltz', 'SMurphyCongress', 'congbillposey',\n",
       "       'RepDarrenSoto', 'Val_Demings', 'RepWebster', 'RepGusBilirakis',\n",
       "       'CharlieCrist', 'USRepKCastor', 'RepRossSpano', 'VernBuchanan',\n",
       "       'RepGregSteube', 'BrianMastFL', 'FrancisRooney', 'RepHastingsFL',\n",
       "       'RepLoisFrankel', 'RepTedDeutch', 'RepDWStweets', 'RepWilson',\n",
       "       'MarioDB', 'RepDMP', 'RepShalala', 'sendavidperdue',\n",
       "       'SenatorLoeffler', 'RepBuddyCarter', 'SanfordBishop',\n",
       "       'DrewFergusonGA', 'RepHankJohnson', 'repjohnlewis',\n",
       "       'RepLucyMcBath', 'RepRobWoodall', 'AustinScottGA08',\n",
       "       'RepDougCollins', 'CongressmanHice', 'RepLoudermilk',\n",
       "       'RepRickAllen', 'repdavidscott', 'RepTomGraves', 'GuamCongressman',\n",
       "       'SenBrianSchatz', 'maziehirono', 'RepEdCase', 'TulsiPress',\n",
       "       'SenatorRisch', 'MikeCrapo', 'RepRussFulcher', 'CongMikeSimpson',\n",
       "       'SenDuckworth', 'SenatorDurbin', 'RepBobbyRush', 'RepRobinKelly',\n",
       "       'RepLipinski', 'RepChuyGarcia', 'RepMikeQuigley', 'RepCasten',\n",
       "       'RepDannyDavis', 'RajaForCongress', 'janschakowsky',\n",
       "       'RepSchneider', 'RepBillFoster', 'RepBost', 'RodneyDavis',\n",
       "       'RepUnderwood', 'RepShimkus', 'RepKinzinger', 'RepCheri',\n",
       "       'ElectLaHood', 'Braun4Indiana', 'SenToddYoung', 'RepVisclosky',\n",
       "       'RepWalorski', 'Jim_Banks', 'RepJimBaird', 'SusanWBrooks',\n",
       "       'RepGregPence', 'RepAndreCarson', 'RepLarryBucshon', 'VoteForTrey',\n",
       "       'ChuckGrassley', 'SenJoniErnst', 'RepFinkenauer', 'daveloebsack',\n",
       "       'RepCindyAxne', 'SteveKingIA', 'SenPatRoberts', 'JerryMoran',\n",
       "       'RogerMarshallMD', 'Rep_Watkins', 'RepDavids', 'RepRonEstes',\n",
       "       'RandPaul', 'McConnellPress', 'JamesComer', 'RepGuthrie',\n",
       "       'RepJohnYarmuth', 'RepThomasMassie', 'RepHalRogers', 'RepAndyBarr',\n",
       "       'JohnKennedyLA', 'BillCassidy', 'SteveScalise', 'RepRichmond',\n",
       "       'CaptClayHIggins', 'RepMikeJohnson', 'RepAbraham',\n",
       "       'RepGarretGraves', 'SenAngusKing', 'SenatorCollins',\n",
       "       'chelliepingree', 'RepGolden', 'ChrisVanHollen', 'SenatorCardin',\n",
       "       'RepAndyHarrisMD', 'Call_Me_Dutch', 'RepSarbanes',\n",
       "       'RepAnthonyBrown', 'LeaderHoyer', 'RepDavidTrone',\n",
       "       'Mfume4Congress', 'Jamie_Raskin', 'SenWarren', 'SenMarkey',\n",
       "       'RepRichardNeal', 'RepMcGovern', 'RepLoriTrahan', 'RepJoeKennedy',\n",
       "       'RepKClark', 'teammoulton', 'RepPressley', 'RepStephenLynch',\n",
       "       'USRepKeating', 'SenStabenow', 'SenGaryPeters', 'JackBergman_MI1',\n",
       "       'RepHuizenga', 'justinamash', 'RepMoolenaar', 'RepDanKildee',\n",
       "       'RepFredUpton', 'RepWalberg', 'RepSlotkin', 'RepAndyLevin',\n",
       "       'PaulMitchell4us', 'RepHaleyStevens', 'RepDebDingell',\n",
       "       'RepRashida', 'RepLawrence', 'amyklobuchar', 'SenTinaSmith',\n",
       "       'RepHagedorn', 'RepAngieCraig', 'RepDeanPhillips',\n",
       "       'BettyMcCollum04', 'IlhanMN', 'RepTomEmmer', 'collinpeterson',\n",
       "       'RepPeteStauber', 'SenatorWicker', 'SenHydeSmith', 'RepTrentKelly',\n",
       "       'BennieGThompson', 'RepMichaelGuest', 'CongPalazzo', 'HawleyMO',\n",
       "       'RoyBlunt', 'LacyClayMO1', 'RepAnnWagner', 'RepBlaine',\n",
       "       'RepHartzler', 'repcleaver', 'RepSamGraves', 'USRepLong',\n",
       "       'RepJasonSmith', 'SenatorTester', 'SteveDaines', 'GregForMontana',\n",
       "       'SenSasse', 'SenatorFischer', 'JeffFortenberry', 'RepDonBacon',\n",
       "       'RepAdrianSmith', 'SenJackyRosen', 'CatherineForNV',\n",
       "       'repdinatitus', 'MarkAmodeiNV2', 'RepSusieLee', 'RepHorsford',\n",
       "       'SenatorShaheen', 'Maggie_Hassan', 'RepChrisPappas',\n",
       "       'RepAnnieKuster', 'SenatorMenendez', 'CoryBooker',\n",
       "       'DonNorcross4NJ', 'JeffVanDrew', 'RepAndyKimNJ', 'RepChrisSmith',\n",
       "       'JoshGottheimer', 'FrankPallone', 'RepMalinowski', 'RepSires',\n",
       "       'BillPascrell', 'RepDonaldPayne', 'RepSherrill', 'RepBonnie',\n",
       "       'SenatorTomUdall', 'MartinHeinrich', 'RepDebHaaland',\n",
       "       'RepTorresSmall', 'repbenraylujan', 'SenSchumer', 'SenGillibrand',\n",
       "       'RepLeeZeldin', 'RepPeteKing', 'Tom_Suozzi', 'RepKathleenRice',\n",
       "       'RepGregoryMeeks', 'RepGraceMeng', 'NydiaVelazquez', 'RepJeffries',\n",
       "       'RepYvetteClarke', 'RepJerryNadler', 'RepMaxRose', 'RepMaloney',\n",
       "       'EspaillatNY', 'RepAOC', 'RepJoseSerrano', 'RepEliotEngel',\n",
       "       'NitaLowey', 'RepSeanMaloney', 'RepDelgado', 'RepPaulTonko',\n",
       "       'RepStefanik', 'RepBrindisi', 'RepTomReed', 'RepJohnKatko',\n",
       "       'RepJoeMorelle', 'RepBrianHiggins', 'an', 'SenThomTillis',\n",
       "       'SenatorBurr', 'GKButterfield', 'GeorgeHolding', 'RepGregMurphy',\n",
       "       'RepDavidEPrice', 'virginiafoxx', 'RepMarkWalker',\n",
       "       'RepDavidRouzer', 'RepRichHudson', 'jdanbishop', 'PatrickMcHenry',\n",
       "       'an', 'RepAdams', 'BuddforCongress', 'SenJohnHoeven',\n",
       "       'SenKevinCramer', 'RepArmstrongND', 'Kilili_Sablan',\n",
       "       'senrobportman', 'SenSherrodBrown', 'RepSteveChabot',\n",
       "       'RepBradWenstrup', 'RepBeatty', 'Jim_Jordan', 'boblatta',\n",
       "       'RepBillJohnson', 'RepBobGibbs', 'WarrenDavidson',\n",
       "       'RepMarcyKaptur', 'RepMikeTurner', 'RepMarciaFudge',\n",
       "       'RepBalderson', 'RepTimRyan', 'RepDaveJoyce', 'RepSteveStivers',\n",
       "       'RepAGonzalez', 'SenatorLankford', 'InhofePress', 'RepKevinHern',\n",
       "       'RepMullin', 'RepFrankLucas', 'TomColeOK04', 'RepKendraHorn',\n",
       "       'RonWyden', 'SenJeffMerkley', 'RepBonamici', 'repgregwalden',\n",
       "       'repblumenauer', 'RepPeterDeFazio', 'RepSchrader', 'Jenniffer2012',\n",
       "       'SenToomey', 'SenBobCasey', 'RepBrianFitz', 'CongBoyle',\n",
       "       'RepDwightEvans', 'RepDean', 'RepMGS', 'RepHoulahan',\n",
       "       'RepSusanWild', 'RepCartwright', 'RepMeuser', 'RepScottPerry',\n",
       "       'RepLloyd', 'RepFredKelle', 'RepJohnJoyce', 'GReschenthaler',\n",
       "       'CongressmanGT', 'MikeKellyforPA', 'RepConorLamb',\n",
       "       'USRepMikeDoyle', 'SenWhitehouse', 'SenJackReed', 'RepCicilline',\n",
       "       'jimlangevin', 'SenatorTimScott', 'LindsayGrahamSC',\n",
       "       'RepCunningham', 'RepJoeWilson', 'RepJeffDuncan', 'RepTimmons',\n",
       "       'RepRalphNorman', 'WhipClyburn', 'RepTomRice', 'SenJohnThune',\n",
       "       'SenatorRounds', 'RepDustyJohnson', 'MarshaBlackburn',\n",
       "       'SenAlexander', 'DrPhilRoe', 'RepTimBurchett', 'RepChuck',\n",
       "       'DesJarlaisTN04', 'repjimcooper', 'RepJohnRose', 'RepMarkGreen',\n",
       "       'DavidKustoff', 'RepCohen', 'SenTedCruz', 'JohnCornyn',\n",
       "       'replouiegohmert', 'RepDanCrenshaw', 'RepVanTaylor', 'an',\n",
       "       'Lancegooden', 'RepRonWright', 'RepFletcher', 'RepKevinBrady',\n",
       "       'RepAlGreen', 'RepMcCaul', 'ConawayTX11', 'RepKayGranger',\n",
       "       'MacTXPress', 'TXRandy14', 'RepGonzalez', 'RepEscobar',\n",
       "       'RepBillFlores', 'JacksonLeeTX18', 'JodeyArrington',\n",
       "       'JoaquinCastrotx', 'RepChipRoy', 'PeteOlson', 'HurdOnTheHill',\n",
       "       'RepKenMarchant', 'RepRWilliams', 'michaelcburgess', 'RepCloudTX',\n",
       "       'RepCuellar', 'RepSylviaGarcia', 'RepEBJ', 'JudgeCarter',\n",
       "       'RepColinAllred', 'RepVeasey', 'RepFilemonVela', 'RepLloydDoggett',\n",
       "       'RepBrianBabin', 'SenMikeLee', 'SenatorRomney', 'RepHalRogers',\n",
       "       'RepChrisStewart', 'RepJohnCurtis', 'RepBenMcAdams', 'SenSanders',\n",
       "       'SenatorLeahy', 'PeterWelch', 'MarkWarner', 'timkaine',\n",
       "       'RobWittman', 'RepElaineLuria', 'BobbyScott', 'Donald_McEachin',\n",
       "       'RepRiggleman', 'RepBenCline', 'RepSpanberger', 'RepDonBeyer',\n",
       "       'RepMGriffith', 'RepWexton', 'GerryConnolly', 'StaceyPlaskett',\n",
       "       'PattyMurray', 'SenatorCantwell', 'RepDelBene', 'RepRickLarsen',\n",
       "       'HerreraBeutler', 'RepNewhouse', 'cathymcmorris', 'RepDerekKilmer',\n",
       "       'PramilaJayapal', 'RepKimSchrier', 'RepAdamSmith', 'RepDennyHeck',\n",
       "       'Sen_JoeManchin', 'SenCapito', 'RepMcKinley', 'RepAlexMooney',\n",
       "       'RepCarolMiller', 'SenRonJohnson', 'SenatorBaldwin',\n",
       "       'RepBryanSteil', 'repmarkpocan', 'RepRonKind', 'RepGwenMoore',\n",
       "       'JimPressOffice', 'RepGrothman', 'TomTiffanyWI', 'MikeforWI',\n",
       "       'SenatorEnzi', 'SenJohnBarrasso', 'Liz_Cheney'], dtype=object)"
      ]
     },
     "metadata": {
      "tags": []
     },
     "execution_count": 6
    }
   ]
  },
  {
   "cell_type": "code",
   "metadata": {
    "id": "nmmY8NMEpanx"
   },
   "source": [
    "#request to grab user id for tweetscraping\n",
    "\n",
    "batch0 = politicians['user4_twitter_endpoint'].values[:100]\n",
    "batch1 = politicians['user4_twitter_endpoint'].values[100:200]\n",
    "batch2 = politicians['user4_twitter_endpoint'].values[200:300]\n",
    "batch3 = politicians['user4_twitter_endpoint'].values[300:400]\n",
    "batch4 = politicians['user4_twitter_endpoint'].values[400:500]"
   ],
   "execution_count": null,
   "outputs": []
  },
  {
   "cell_type": "code",
   "metadata": {
    "colab": {
     "base_uri": "https://localhost:8080/",
     "height": 192
    },
    "id": "XOcUvnH-x0C4",
    "outputId": "9248dd33-2cf6-4834-862d-5ff0cd97db67"
   },
   "source": [
    "\",\".join(batch0)"
   ],
   "execution_count": null,
   "outputs": [
    {
     "output_type": "execute_result",
     "data": {
      "application/vnd.google.colaboratory.intrinsic+json": {
       "type": "string"
      },
      "text/plain": [
       "'SenShelby,DougJones,RepByrne,RepMarthaRoby,RepMikeRogersAL,Robert_Aderholt,RepMoBrooks,USRepGaryPalmer,RepTerriSewell,SenDanSullivan,lisamurkowski,RepDonYoung,RepAmata,SenMcSallyAZ,SenatorSinema,TomOHalleran,RepKirkPatrick,RepRaulGrijalva,RepGosar,AndyBiggs4AZ,RepDavid,RepRubenGallego,RepDLesko,RepGregStanton,SenTomCotton,JohnBoozman,RepRickCrawford,RepFrenchHill,rep_stevewomack,RepWesterman,SenFeinstein,KamalaHarris,RepLaMalfa,RepHuffman,RepGaramendi,RepMcClintock,RepThompson,DorisMatsui,RepBera,RepPaulCook,RepMcNerney,RepJoshHarder,RepDeSaulnier,SpeakerPelosi,RepBarbaraLee,RepSpeier,RepSwalwell,RepJimCosta,RoKhannaUSA,RepAnnaEshoo,RepZoeLofgren,JimmyPanetta,RepTJCox,DevinNunes,GOPLeader,CarbajalSalud,MikeGarcia2020,RepBrownley,RepJudyChu,RepAdamSchiff,RepCardenas,BradSherman,RepPeteAguilar,gracenapolitano,RepTedLieu,RepJimmyGomez,NormaJTorres,RepRaulRuizMD,RepKarenBass,RepLindaSanchez,RepGilCisneros,RepRoybalAllard,RepMarkTakano,KenCalvert,MaxineWaters,Nanette4CA,RepKatiePorter,RepLouCorrea,RepLowenthal,RepHarley,RepMikeLevin,an,RepJuanVargas,RepScottPeters,RepSusanDavis,MichaelBennet,SenCoryGardner,RepDianaDeGette,RepJoeNeguse,RepTipton,RepKenBuck,RepDLamborn,RepJasonCrow,RepPerlmutter,ChrisMurphyCT,SenBlumenthal,RepJohnLarson,RepJoeCourtney,rosadelauro,jahimes'"
      ]
     },
     "metadata": {
      "tags": []
     },
     "execution_count": 8
    }
   ]
  },
  {
   "cell_type": "code",
   "metadata": {
    "id": "_xr8GU-PyX44"
   },
   "source": [
    "responses = []\n",
    "\n",
    "payload={}\n",
    "headers = {\n",
    "  'Authorization': 'Bearer ',\n",
    "  'Cookie': 'guest_id=; personalization_id=\"\"'\n",
    "}\n",
    "\n",
    "for batch in [batch0,batch1,batch2,batch3,batch4]:\n",
    "  url = 'https://api.twitter.com/2/users/by?usernames='\n",
    "\n",
    "  url = url+ \",\".join(batch)\n",
    "\n",
    "  responses.append(requests.request(\"GET\", url, headers=headers, data=payload).json())\n",
    "\n"
   ],
   "execution_count": null,
   "outputs": []
  },
  {
   "cell_type": "code",
   "metadata": {
    "id": "4BPLApaiA71I"
   },
   "source": [
    "politician_dict = {}\n",
    "for response in responses:\n",
    "  for entry in response['data']:\n",
    "    politician_dict[entry['id']] = entry"
   ],
   "execution_count": null,
   "outputs": []
  },
  {
   "cell_type": "code",
   "metadata": {
    "colab": {
     "base_uri": "https://localhost:8080/"
    },
    "id": "SvLHpGotB6rH",
    "outputId": "f1ce0aa3-56f1-4d1b-c109-651d210f158a"
   },
   "source": [
    "politician_dict['1009269193']"
   ],
   "execution_count": null,
   "outputs": [
    {
     "output_type": "execute_result",
     "data": {
      "text/plain": [
       "{'id': '1009269193',\n",
       " 'name': 'Former Rep. Daniel Lipinski',\n",
       " 'username': 'RepLipinski'}"
      ]
     },
     "metadata": {
      "tags": []
     },
     "execution_count": 11
    }
   ]
  },
  {
   "cell_type": "code",
   "metadata": {
    "colab": {
     "base_uri": "https://localhost:8080/"
    },
    "id": "aSoUvd6SJANv",
    "outputId": "7c40ed1c-5441-487f-ed0f-26cd29b3a889"
   },
   "source": [
    "politicians.columns.to_list()"
   ],
   "execution_count": null,
   "outputs": [
    {
     "output_type": "execute_result",
     "data": {
      "text/plain": [
       "['State',\n",
       " 'Chamber_of_Congress',\n",
       " 'Name',\n",
       " 'Party',\n",
       " 'Twitter',\n",
       " 'Instagram',\n",
       " 'Facebook_Page',\n",
       " 'user4_twitter_endpoint']"
      ]
     },
     "metadata": {
      "tags": []
     },
     "execution_count": 12
    }
   ]
  },
  {
   "cell_type": "code",
   "metadata": {
    "colab": {
     "base_uri": "https://localhost:8080/"
    },
    "id": "Lg-pjdVcDci-",
    "outputId": "05d3f21e-033a-4c1e-f005-f539e03d379c"
   },
   "source": [
    "for key in politician_dict.keys():\n",
    "\n",
    "  username = str(politician_dict[key]['username'])\n",
    "  try:\n",
    "    tmp = politicians[politicians['user4_twitter_endpoint']==username]\n",
    "\n",
    "\n",
    "    for col in tmp.columns.to_list():\n",
    "      if col in ['user4_twitter_endpoint','Facebook_Page']:\n",
    "        continue\n",
    "      else:\n",
    "        politician_dict[key][col] = tmp[col].values[0]\n",
    "  except:\n",
    "    print('failure')"
   ],
   "execution_count": null,
   "outputs": [
    {
     "output_type": "stream",
     "text": [
      "failure\n",
      "failure\n",
      "failure\n",
      "failure\n",
      "failure\n",
      "failure\n",
      "failure\n",
      "failure\n",
      "failure\n",
      "failure\n",
      "failure\n",
      "failure\n",
      "failure\n",
      "failure\n",
      "failure\n"
     ],
     "name": "stdout"
    }
   ]
  },
  {
   "cell_type": "code",
   "metadata": {
    "colab": {
     "base_uri": "https://localhost:8080/"
    },
    "id": "WIIB0dblEoCf",
    "outputId": "2dfe69f3-a6b7-4806-d46b-779ede7be79f"
   },
   "source": [
    "politician_dict['1009269193']"
   ],
   "execution_count": null,
   "outputs": [
    {
     "output_type": "execute_result",
     "data": {
      "text/plain": [
       "{'Chamber_of_Congress': 'U.S. Representative',\n",
       " 'Instagram': '@repdanlipinski',\n",
       " 'Name': 'Lipinski, Daniel',\n",
       " 'Party': 'D',\n",
       " 'State': 'Illinois 3rd District',\n",
       " 'Twitter': '@RepLipinski',\n",
       " 'id': '1009269193',\n",
       " 'name': 'Former Rep. Daniel Lipinski',\n",
       " 'username': 'RepLipinski'}"
      ]
     },
     "metadata": {
      "tags": []
     },
     "execution_count": 118
    }
   ]
  },
  {
   "cell_type": "code",
   "metadata": {
    "id": "3mmeEXfEErYc"
   },
   "source": [
    "import pickle\n",
    "\n",
    "with open('/content/drive/MyDrive/word2vec_training/politician_profiles.pickle','wb') as file:\n",
    "  pickle.dump(politician_dict,file)"
   ],
   "execution_count": null,
   "outputs": []
  },
  {
   "cell_type": "code",
   "metadata": {
    "id": "suOHRNwCGn2G"
   },
   "source": [
    "#TWITTER API TOKEN REQUIRED FOR ALL REQUESTS: \n",
    "#must hide this if code is ever made public\n",
    "#Bearer"
   ],
   "execution_count": null,
   "outputs": []
  },
  {
   "cell_type": "code",
   "metadata": {
    "colab": {
     "base_uri": "https://localhost:8080/"
    },
    "id": "mrGYlpneE5_I",
    "outputId": "6be59b91-cc24-4f8f-d992-5ec25e556f09"
   },
   "source": [
    "#grab tweets\n",
    "\n",
    "#import requests\n",
    "\n",
    "url = \"https://api.twitter.com/2/users/1009269193/tweets?until_id=1345761183228452867\"\n",
    "\n",
    "payload={}\n",
    "headers = {\n",
    "  'Authorization': 'Bearer',\n",
    "  'Cookie': 'guest_id=; personalization_id=\"'\n",
    "}\n",
    "\n",
    "response = requests.request(\"GET\", url, headers=headers, data=payload)\n",
    "\n",
    "print(response.text)"
   ],
   "execution_count": null,
   "outputs": [
    {
     "output_type": "stream",
     "text": [
      "{\"data\":[{\"id\":\"1345761182184058883\",\"text\":\"America is not perfect, because humans can never be perfect. But we must pray and work every day that each of us and our nation better uphold the principle of equality, and that we better protect life and liberty every day for all, especially the most vulnerable. [3/4]\"},{\"id\":\"1345761181026439175\",\"text\":\"America is the greatest nation ever. Its greatness springs from our founding principles. “We hold these truths to be self-evident, that all men are created equal, that they are endowed by their Creator with certain unalienable Rights.” [2/4]\"},{\"id\":\"1345761179558420482\",\"text\":\"I want to thank the people of Illinois’ Third District for giving me the honor and privilege to serve you and our nation for 16 years. Our team was able to get a tremendous amount of work done in DC &amp; at home to help a lot of people and make the district and America better. [1/4]\"},{\"id\":\"1345541564337152003\",\"text\":\"“He is known for his work on transportation and science issues, advocating for anti-abortion legislation and his membership in the Problem Solvers Caucus, a group seeking common ground in the highly polarized House.” https://t.co/VxsDvqD5G1\"},{\"id\":\"1345511789509935105\",\"text\":\"Good governance requires making trade-offs, but political decision-making today avoids these tough choices especially when it comes to spending Americans’ tax dollars. We cannot afford to have Washington continue this business as usual. https://t.co/eg5NnD9Fdj\"},{\"id\":\"1345198029717041152\",\"text\":\"Override of #NDAA veto means my Sustainable Chemistry R&amp;D Act, HR 2051 becomes law. I also helped include restoration of @DoDMinerva to help understand global threats like terrorism &amp; support for @Hacking4Defense to prepare college students to address national security challenges\"},{\"id\":\"1344732354192007170\",\"text\":\"#IL03 #smallbusiness owners and nonprofits, today @SBAgov announced the Economic Injury Disaster Loan Program has been extended to December 31, 2021 as result of the recent COVID19 relief package enacted into law. Learn more about #EIDL and apply at https://t.co/Z9BClY8t0Q\"},{\"id\":\"1344669072924041219\",\"text\":\"I’m proud to have represented @Argonne including leading calls to fund their supercomputers. Take a look at the important work #IL03 researchers have done the past year. https://t.co/5VyfUONeN8\"},{\"id\":\"1343719586458435584\",\"text\":\"Federal debt is now larger than the US economy.  Austerity should not be instituted now; stimulus is needed. But this does not mean we do not have to consider what we are spending and what debt we are passing onto future generations.\"},{\"id\":\"1343719582247378944\",\"text\":\"Deficit spending during this pandemic is absolutely necessary. If more aid is needed next year, Congress can work on providing that.  But fiscal year 2020 (which ended September 30, 2020) recorded a $3.1 trillion deficit which was more than double the previous record.\"}],\"meta\":{\"oldest_id\":\"1343719582247378944\",\"newest_id\":\"1345761182184058883\",\"result_count\":10,\"next_token\":\"7140dibdnow9c7btw3w2ok9p2g37t5jw5juutubluq9f8\"}}\n"
     ],
     "name": "stdout"
    }
   ]
  },
  {
   "cell_type": "code",
   "metadata": {
    "colab": {
     "base_uri": "https://localhost:8080/"
    },
    "id": "vOklFM9SJtcK",
    "outputId": "24671250-9fbd-4f26-f8db-201b790584bc"
   },
   "source": [
    "len(response.json()['data'])"
   ],
   "execution_count": null,
   "outputs": [
    {
     "output_type": "execute_result",
     "data": {
      "text/plain": [
       "10"
      ]
     },
     "metadata": {
      "tags": []
     },
     "execution_count": 27
    }
   ]
  },
  {
   "cell_type": "code",
   "metadata": {
    "colab": {
     "base_uri": "https://localhost:8080/"
    },
    "id": "uolCulEUG8O3",
    "outputId": "77b552c0-00b4-4cfa-9cea-b7a2f9b82430"
   },
   "source": [
    "\n",
    "url = \"https://api.twitter.com/2/users/:id/tweets?start_time=&end_time=\"\n",
    "\n",
    "payload={}\n",
    "headers = {\n",
    "  'Authorization': 'Bearer',\n",
    "  'Cookie': 'guest_id=; personalization_id=\"\"'\n",
    "}\n",
    "\n",
    "response = requests.request(\"GET\", url, headers=headers, data=payload)\n",
    "\n",
    "print(response.text)\n"
   ],
   "execution_count": null,
   "outputs": [
    {
     "output_type": "stream",
     "text": [
      "{\"data\":[{\"id\":\"1345761183228452867\",\"text\":\"With God’s grace, we will do that, and be that shining city on the hill. God bless you and God bless America.  https://t.co/YPUkZH3ydW [4/4]\"},{\"id\":\"1345761182184058883\",\"text\":\"America is not perfect, because humans can never be perfect. But we must pray and work every day that each of us and our nation better uphold the principle of equality, and that we better protect life and liberty every day for all, especially the most vulnerable. [3/4]\"},{\"id\":\"1345761181026439175\",\"text\":\"America is the greatest nation ever. Its greatness springs from our founding principles. “We hold these truths to be self-evident, that all men are created equal, that they are endowed by their Creator with certain unalienable Rights.” [2/4]\"},{\"id\":\"1345761179558420482\",\"text\":\"I want to thank the people of Illinois’ Third District for giving me the honor and privilege to serve you and our nation for 16 years. Our team was able to get a tremendous amount of work done in DC &amp; at home to help a lot of people and make the district and America better. [1/4]\"},{\"id\":\"1345541564337152003\",\"text\":\"“He is known for his work on transportation and science issues, advocating for anti-abortion legislation and his membership in the Problem Solvers Caucus, a group seeking common ground in the highly polarized House.” https://t.co/VxsDvqD5G1\"},{\"id\":\"1345511789509935105\",\"text\":\"Good governance requires making trade-offs, but political decision-making today avoids these tough choices especially when it comes to spending Americans’ tax dollars. We cannot afford to have Washington continue this business as usual. https://t.co/eg5NnD9Fdj\"},{\"id\":\"1345198029717041152\",\"text\":\"Override of #NDAA veto means my Sustainable Chemistry R&amp;D Act, HR 2051 becomes law. I also helped include restoration of @DoDMinerva to help understand global threats like terrorism &amp; support for @Hacking4Defense to prepare college students to address national security challenges\"},{\"id\":\"1344732354192007170\",\"text\":\"#IL03 #smallbusiness owners and nonprofits, today @SBAgov announced the Economic Injury Disaster Loan Program has been extended to December 31, 2021 as result of the recent COVID19 relief package enacted into law. Learn more about #EIDL and apply at https://t.co/Z9BClY8t0Q\"},{\"id\":\"1344669072924041219\",\"text\":\"I’m proud to have represented @Argonne including leading calls to fund their supercomputers. Take a look at the important work #IL03 researchers have done the past year. https://t.co/5VyfUONeN8\"},{\"id\":\"1343719586458435584\",\"text\":\"Federal debt is now larger than the US economy.  Austerity should not be instituted now; stimulus is needed. But this does not mean we do not have to consider what we are spending and what debt we are passing onto future generations.\"}],\"meta\":{\"oldest_id\":\"1343719586458435584\",\"newest_id\":\"1345761183228452867\",\"result_count\":10,\"next_token\":\"7140dibdnow9c7btw3w2ok9p2g37t5mz3u0ggi54g6ptg\"}}\n"
     ],
     "name": "stdout"
    }
   ]
  },
  {
   "cell_type": "code",
   "metadata": {
    "id": "M4ZPI86LPUEk"
   },
   "source": [
    "class tweetFetcher:\n",
    "  \"\"\"\n",
    "  what is my purpose? \n",
    "  You fetch tweets\n",
    "  [defeated] Oh my god.\n",
    "  \"\"\"\n",
    "\n",
    "  def __init__(self,\n",
    "               userid,\n",
    "               payload = {},\n",
    "               headers = {\n",
    "                   'Authorization': 'Bearer ',\n",
    "                   'Cookie': 'guest_id=; personalization_id=\"\"'\n",
    "               }\n",
    "               ):\n",
    "    self.user = userid\n",
    "    self.payload = payload\n",
    "    self.headers = headers\n",
    "    self.url = 'https://api.twitter.com/2/users/{}/tweets?'.format(userid)\n",
    "\n",
    "    return None\n",
    "\n",
    "  def fetch_tweets_since(self,tweetid):\n",
    "    url = self.url+'until_id='.format(str(tweetid))\n",
    "\n",
    "    response = requests.request(\"GET\", \n",
    "                                url, \n",
    "                                headers=self.headers, \n",
    "                                data=self.payload)\n",
    "    \n",
    "    if str(response.code) != '200':\n",
    "      print('Unsuccessful response. Code:{}'.format(str(response.code)))\n",
    "      print('!----------------------------------!')\n",
    "      print(response.text)\n",
    "      return None\n",
    "    else:\n",
    "\n",
    "      return {\n",
    "          'response': response.json()['data'],\n",
    "          'oldestid':response.json()['meta']['oldest_id']\n",
    "      }\n",
    "    "
   ],
   "execution_count": null,
   "outputs": []
  }
 ]
}